{
 "cells": [
  {
   "cell_type": "code",
   "execution_count": 1,
   "metadata": {},
   "outputs": [],
   "source": [
    "%load_ext autoreload\n",
    "%autoreload 2"
   ]
  },
  {
   "cell_type": "code",
   "execution_count": 2,
   "metadata": {
    "tags": [
     "widget"
    ]
   },
   "outputs": [
    {
     "data": {
      "application/vnd.jupyter.widget-view+json": {
       "model_id": "5726163ab96343ed865a0ac3a5be381e",
       "version_major": 2,
       "version_minor": 0
      },
      "text/plain": [
       "HBox(children=(PathInput(children=(Text(value='', layout=Layout(border_bottom='1px solid black', border_left='…"
      ]
     },
     "metadata": {},
     "output_type": "display_data"
    },
    {
     "data": {
      "application/vnd.jupyter.widget-view+json": {
       "model_id": "9b2d4cd36e8c40e2abdb47089ff5fa7e",
       "version_major": 2,
       "version_minor": 0
      },
      "text/plain": [
       "FileChooser(options=('file_selector.ipynb', 'index_selector.ipynb', 'filter_design.ipynb', 'requirements.txt',…"
      ]
     },
     "execution_count": 2,
     "metadata": {},
     "output_type": "execute_result"
    }
   ],
   "source": [
    "from jupyter_utility_widgets.file_explorer import PathInput, DirectoryChooser, FileChooser\n",
    "from ipywidgets import link, HBox, dlink\n",
    "directory_explorer = DirectoryChooser()\n",
    "file_explorer = FileChooser()\n",
    "inp = PathInput()\n",
    "\n",
    "link((inp, \"value\"), (directory_explorer, \"directory\"))\n",
    "dlink((inp, \"value\"), (file_explorer, \"directory\"))\n",
    "display(HBox([inp,directory_explorer]))\n",
    "file_explorer\n"
   ]
  },
  {
   "cell_type": "code",
   "execution_count": null,
   "metadata": {},
   "outputs": [],
   "source": []
  }
 ],
 "metadata": {
  "kernelspec": {
   "display_name": ".venv",
   "language": "python",
   "name": "python3"
  },
  "language_info": {
   "codemirror_mode": {
    "name": "ipython",
    "version": 3
   },
   "file_extension": ".py",
   "mimetype": "text/x-python",
   "name": "python",
   "nbconvert_exporter": "python",
   "pygments_lexer": "ipython3",
   "version": "3.8.13"
  },
  "orig_nbformat": 4
 },
 "nbformat": 4,
 "nbformat_minor": 2
}
