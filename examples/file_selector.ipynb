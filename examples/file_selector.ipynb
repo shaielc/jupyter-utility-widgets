{
 "cells": [
  {
   "cell_type": "code",
   "execution_count": 1,
   "metadata": {},
   "outputs": [],
   "source": [
    "%load_ext autoreload\n",
    "%autoreload 2"
   ]
  },
  {
   "cell_type": "code",
   "execution_count": 2,
   "metadata": {
    "tags": [
     "widget"
    ]
   },
   "outputs": [
    {
     "data": {
      "application/vnd.jupyter.widget-view+json": {
       "model_id": "2f1ea617d7034bccaee0402009f23f8f",
       "version_major": 2,
       "version_minor": 0
      },
      "text/plain": [
       "HBox(children=(PathInput(children=(Text(value='', layout=Layout(border_bottom='1px solid black', border_left='…"
      ]
     },
     "metadata": {},
     "output_type": "display_data"
    },
    {
     "data": {
      "application/vnd.jupyter.widget-view+json": {
       "model_id": "c301f28201a54ad69cabd2417cc5a953",
       "version_major": 2,
       "version_minor": 0
      },
      "text/plain": [
       "FileChooser(options=('file_selector.ipynb', 'index_selector.ipynb', 'filter_design.ipynb', 'requirements.txt',…"
      ]
     },
     "execution_count": 2,
     "metadata": {},
     "output_type": "execute_result"
    }
   ],
   "source": [
    "from jupyter_utility_widgets.file_explorer import PathInput, DirectoryChooser, FileChooser\n",
    "from ipywidgets import link, HBox, dlink\n",
    "directory_explorer = DirectoryChooser()\n",
    "file_explorer = FileChooser()\n",
    "inp = PathInput()\n",
    "\n",
    "link((inp, \"value\"), (directory_explorer, \"directory\"))\n",
    "dlink((inp, \"value\"), (file_explorer, \"directory\"))\n",
    "display(HBox([inp,directory_explorer]))\n",
    "file_explorer\n"
   ]
  },
  {
   "cell_type": "code",
   "execution_count": 7,
   "metadata": {},
   "outputs": [
    {
     "data": {
      "application/vnd.jupyter.widget-view+json": {
       "model_id": "f88ce04be2ff43b2900d58d1643101a4",
       "version_major": 2,
       "version_minor": 0
      },
      "text/plain": [
       "FileExplorer(value='', children=(HBox(children=(PathInput(children=(Text(value='../', layout=Layout(border_bot…"
      ]
     },
     "execution_count": 7,
     "metadata": {},
     "output_type": "execute_result"
    }
   ],
   "source": [
    "from jupyter_utility_widgets.file_explorer import FileExplorer\n",
    "from ipywidgets import link, HBox, dlink\n",
    "fe = FileExplorer(directory=\"../\", extensions=\".dat\")\n",
    "fe.observe(print, [\"value\"])\n",
    "fe"
   ]
  },
  {
   "attachments": {},
   "cell_type": "markdown",
   "metadata": {},
   "source": []
  },
  {
   "cell_type": "code",
   "execution_count": null,
   "metadata": {},
   "outputs": [],
   "source": []
  }
 ],
 "metadata": {
  "kernelspec": {
   "display_name": ".venv",
   "language": "python",
   "name": "python3"
  },
  "language_info": {
   "codemirror_mode": {
    "name": "ipython",
    "version": 3
   },
   "file_extension": ".py",
   "mimetype": "text/x-python",
   "name": "python",
   "nbconvert_exporter": "python",
   "pygments_lexer": "ipython3",
   "version": "3.8.13"
  },
  "orig_nbformat": 4
 },
 "nbformat": 4,
 "nbformat_minor": 2
}
