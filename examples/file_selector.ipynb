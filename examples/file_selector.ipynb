{
 "cells": [
  {
   "cell_type": "code",
   "execution_count": 35,
   "metadata": {},
   "outputs": [
    {
     "name": "stdout",
     "output_type": "stream",
     "text": [
      "The autoreload extension is already loaded. To reload it, use:\n",
      "  %reload_ext autoreload\n"
     ]
    }
   ],
   "source": [
    "%load_ext autoreload\n",
    "%autoreload 2"
   ]
  },
  {
   "cell_type": "code",
   "execution_count": 2,
   "metadata": {},
   "outputs": [
    {
     "data": {
      "application/vnd.jupyter.widget-view+json": {
       "model_id": "2dd8c10793c24e9a8db88afe9d00c323",
       "version_major": 2,
       "version_minor": 0
      },
      "text/plain": [
       "HBox(children=(PathInput(children=(Text(value='', layout=Layout(border_bottom='1px solid black', border_left='…"
      ]
     },
     "metadata": {},
     "output_type": "display_data"
    },
    {
     "data": {
      "application/vnd.jupyter.widget-view+json": {
       "model_id": "ba99c4bdb47548948c1634f942fd66af",
       "version_major": 2,
       "version_minor": 0
      },
      "text/plain": [
       "FileChooser(children=(SelectMultiple(options=('file_selector.ipynb', 'index_selector.ipynb'), value=()),))"
      ]
     },
     "execution_count": 2,
     "metadata": {},
     "output_type": "execute_result"
    }
   ],
   "source": [
    "from jupyter_utility_widgets.file_explorer import PathInput, DirectoryChooser, FileChooser\n",
    "from ipywidgets import link, HBox, dlink\n",
    "directory_explorer = DirectoryChooser()\n",
    "file_explorer = FileChooser()\n",
    "inp = PathInput()\n",
    "\n",
    "link((inp, \"value\"), (directory_explorer, \"directory\"))\n",
    "dlink((inp, \"value\"), (file_explorer, \"directory\"))\n",
    "display(HBox([inp,directory_explorer]))\n",
    "file_explorer\n"
   ]
  },
  {
   "cell_type": "code",
   "execution_count": null,
   "metadata": {},
   "outputs": [],
   "source": []
  }
 ],
 "metadata": {
  "kernelspec": {
   "display_name": ".venv",
   "language": "python",
   "name": "python3"
  },
  "language_info": {
   "codemirror_mode": {
    "name": "ipython",
    "version": 3
   },
   "file_extension": ".py",
   "mimetype": "text/x-python",
   "name": "python",
   "nbconvert_exporter": "python",
   "pygments_lexer": "ipython3",
   "version": "3.8.13"
  },
  "orig_nbformat": 4
 },
 "nbformat": 4,
 "nbformat_minor": 2
}
