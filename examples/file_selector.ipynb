{
 "cells": [
  {
   "cell_type": "code",
   "execution_count": 1,
   "metadata": {},
   "outputs": [],
   "source": [
    "%load_ext autoreload\n",
    "%autoreload 2"
   ]
  },
  {
   "cell_type": "code",
   "execution_count": null,
   "metadata": {
    "tags": [
     "widget"
    ]
   },
   "outputs": [],
   "source": [
    "from jupyter_utility_widgets.file_explorer import PathInput, DirectoryChooser, FileChooser\n",
    "from ipywidgets import link, HBox, dlink\n",
    "directory_explorer = DirectoryChooser()\n",
    "file_explorer = FileChooser()\n",
    "inp = PathInput()\n",
    "\n",
    "link((inp, \"value\"), (directory_explorer, \"directory\"))\n",
    "dlink((inp, \"value\"), (file_explorer, \"directory\"))\n",
    "display(HBox([inp,directory_explorer]))\n",
    "file_explorer\n"
   ]
  },
  {
   "cell_type": "code",
   "execution_count": null,
   "metadata": {},
   "outputs": [],
   "source": [
    "from jupyter_utility_widgets.file_explorer import FileExplorer\n",
    "from ipywidgets import link, HBox, dlink\n",
    "fe = FileExplorer(directory=\"../\", extensions=\".ipynb\")\n",
    "fe.observe(print, [\"value\"])\n",
    "fe"
   ]
  }
 ],
 "metadata": {
  "kernelspec": {
   "display_name": ".venv",
   "language": "python",
   "name": "python3"
  },
  "language_info": {
   "codemirror_mode": {
    "name": "ipython",
    "version": 3
   },
   "file_extension": ".py",
   "mimetype": "text/x-python",
   "name": "python",
   "nbconvert_exporter": "python",
   "pygments_lexer": "ipython3",
   "version": "3.8.13"
  },
  "orig_nbformat": 4
 },
 "nbformat": 4,
 "nbformat_minor": 2
}
