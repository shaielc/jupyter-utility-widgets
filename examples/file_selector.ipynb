{
 "cells": [
  {
   "cell_type": "code",
   "execution_count": 10,
   "metadata": {},
   "outputs": [
    {
     "name": "stdout",
     "output_type": "stream",
     "text": [
      "The autoreload extension is already loaded. To reload it, use:\n",
      "  %reload_ext autoreload\n"
     ]
    }
   ],
   "source": [
    "%load_ext autoreload\n",
    "%autoreload 2"
   ]
  },
  {
   "cell_type": "code",
   "execution_count": 22,
   "metadata": {
    "tags": [
     "widget"
    ]
   },
   "outputs": [
    {
     "data": {
      "application/vnd.jupyter.widget-view+json": {
       "model_id": "7199b2d628244996a44cd76f73914d74",
       "version_major": 2,
       "version_minor": 0
      },
      "text/plain": [
       "FileExplorer(value='', children=(HBox(children=(PathInput(children=(Text(value='', layout=Layout(border_bottom…"
      ]
     },
     "execution_count": 22,
     "metadata": {},
     "output_type": "execute_result"
    },
    {
     "name": "stdout",
     "output_type": "stream",
     "text": [
      "{'name': 'value', 'old': '', 'new': './../../../.aws/config', 'owner': FileExplorer(value='./../../../.aws/config', children=(HBox(children=(PathInput(children=(Text(value='../../../.aws', layout=Layout(border_bottom='1px solid black', border_left='1px solid black', border_right='1px solid black', border_top='1px solid black')), Valid(value=True))), DirectoryChooser(options=('..',), value=None))), HBox(children=(FileChooser(index=1, options=('..', 'config', 'credentials'), value='config'), Button(description='Select', style=ButtonStyle()))))), 'type': 'change'}\n",
      "{'name': 'value', 'old': './../../../.aws/config', 'new': './../../../.aws/credentials', 'owner': FileExplorer(value='./../../../.aws/credentials', children=(HBox(children=(PathInput(children=(Text(value='../../../.aws', layout=Layout(border_bottom='1px solid black', border_left='1px solid black', border_right='1px solid black', border_top='1px solid black')), Valid(value=True))), DirectoryChooser(options=('..',), value=None))), HBox(children=(FileChooser(index=2, options=('..', 'config', 'credentials'), value='credentials'), Button(description='Select', style=ButtonStyle()))))), 'type': 'change'}\n"
     ]
    }
   ],
   "source": [
    "from jupyter_utility_widgets.file_explorer import FileExplorer\n",
    "from ipywidgets import link, HBox, dlink\n",
    "fe = FileExplorer(directory=\"\")\n",
    "fe.observe(print, [\"value\"])\n",
    "fe"
   ]
  },
  {
   "cell_type": "code",
   "execution_count": null,
   "metadata": {},
   "outputs": [],
   "source": []
  }
 ],
 "metadata": {
  "kernelspec": {
   "display_name": ".venv",
   "language": "python",
   "name": "python3"
  },
  "language_info": {
   "codemirror_mode": {
    "name": "ipython",
    "version": 3
   },
   "file_extension": ".py",
   "mimetype": "text/x-python",
   "name": "python",
   "nbconvert_exporter": "python",
   "pygments_lexer": "ipython3",
   "version": "3.8.13"
  },
  "orig_nbformat": 4
 },
 "nbformat": 4,
 "nbformat_minor": 2
}
