{
 "cells": [
  {
   "cell_type": "code",
   "execution_count": 1,
   "metadata": {},
   "outputs": [],
   "source": [
    "%load_ext autoreload\n",
    "%autoreload 2\n",
    "import sys\n",
    "\n",
    "sys.path.append(\"..\")"
   ]
  },
  {
   "cell_type": "code",
   "execution_count": 2,
   "metadata": {},
   "outputs": [
    {
     "data": {
      "application/vnd.jupyter.widget-view+json": {
       "model_id": "6ca24fbe58804faf96392e70db1665bb",
       "version_major": 2,
       "version_minor": 0
      },
      "text/plain": [
       "IndexSelector(children=(Button(icon='arrow-left', style=ButtonStyle()), IntText(value=0), Button(icon='arrow-r…"
      ]
     },
     "execution_count": 2,
     "metadata": {},
     "output_type": "execute_result"
    },
    {
     "name": "stdout",
     "output_type": "stream",
     "text": [
      "{'name': 'value', 'old': 0, 'new': 9, 'owner': IndexSelector(children=(Button(icon='arrow-left', style=ButtonStyle()), IntText(value=9), Button(icon='arrow-right', style=ButtonStyle()))), 'type': 'change'}\n",
      "{'name': 'value', 'old': 9, 'new': 8, 'owner': IndexSelector(children=(Button(icon='arrow-left', style=ButtonStyle()), IntText(value=8), Button(icon='arrow-right', style=ButtonStyle()))), 'type': 'change'}\n",
      "{'name': 'value', 'old': 8, 'new': 7, 'owner': IndexSelector(children=(Button(icon='arrow-left', style=ButtonStyle()), IntText(value=7), Button(icon='arrow-right', style=ButtonStyle()))), 'type': 'change'}\n",
      "{'name': 'value', 'old': 7, 'new': 8, 'owner': IndexSelector(children=(Button(icon='arrow-left', style=ButtonStyle()), IntText(value=8), Button(icon='arrow-right', style=ButtonStyle()))), 'type': 'change'}\n",
      "{'name': 'value', 'old': 8, 'new': 9, 'owner': IndexSelector(children=(Button(icon='arrow-left', style=ButtonStyle()), IntText(value=9), Button(icon='arrow-right', style=ButtonStyle()))), 'type': 'change'}\n",
      "{'name': 'value', 'old': 9, 'new': 0, 'owner': IndexSelector(children=(Button(icon='arrow-left', style=ButtonStyle()), IntText(value=0), Button(icon='arrow-right', style=ButtonStyle()))), 'type': 'change'}\n",
      "{'name': 'value', 'old': 0, 'new': 1, 'owner': IndexSelector(children=(Button(icon='arrow-left', style=ButtonStyle()), IntText(value=1), Button(icon='arrow-right', style=ButtonStyle()))), 'type': 'change'}\n",
      "{'name': 'value', 'old': 1, 'new': 2, 'owner': IndexSelector(children=(Button(icon='arrow-left', style=ButtonStyle()), IntText(value=2), Button(icon='arrow-right', style=ButtonStyle()))), 'type': 'change'}\n"
     ]
    }
   ],
   "source": [
    "from jupyter_utility_widgets.selector.index_selector import IndexSelector\n",
    "\n",
    "list_selector = IndexSelector(length=10, loop=False)\n",
    "list_selector.observe(print, [\"value\"])\n",
    "list_selector\n"
   ]
  },
  {
   "cell_type": "code",
   "execution_count": null,
   "metadata": {},
   "outputs": [
    {
     "ename": "",
     "evalue": "",
     "output_type": "error",
     "traceback": [
      "\u001b[1;31mRunning cells with 'Python 3.8.13 ('.venv': venv)' requires ipykernel package.\n",
      "\u001b[1;31mRun the following command to install 'ipykernel' into the Python environment. \n",
      "\u001b[1;31mCommand: '/home/shy-el/Repositories/jupyter-utility-widgets/.venv/bin/python -m pip install ipykernel -U --force-reinstall'"
     ]
    }
   ],
   "source": []
  }
 ],
 "metadata": {
  "kernelspec": {
   "display_name": "Python 3.8.13 ('.venv': venv)",
   "language": "python",
   "name": "python3"
  },
  "language_info": {
   "codemirror_mode": {
    "name": "ipython",
    "version": 3
   },
   "file_extension": ".py",
   "mimetype": "text/x-python",
   "name": "python",
   "nbconvert_exporter": "python",
   "pygments_lexer": "ipython3",
   "version": "3.8.13"
  },
  "orig_nbformat": 4,
  "vscode": {
   "interpreter": {
    "hash": "c5e8e9728e90e8dddc02d7dc39f10d9372a6afab1a8269899a9142ba21f429d2"
   }
  }
 },
 "nbformat": 4,
 "nbformat_minor": 2
}
