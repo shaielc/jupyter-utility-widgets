{
 "cells": [
  {
   "cell_type": "code",
   "execution_count": 5,
   "metadata": {},
   "outputs": [
    {
     "data": {
      "application/vnd.jupyter.widget-view+json": {
       "model_id": "c2ebd07e8a2c4191ba8bcae07f27edfd",
       "version_major": 2,
       "version_minor": 0
      },
      "text/plain": [
       "IndexSelector(children=(Button(icon='arrow-left', style=ButtonStyle()), IntText(value=0), Button(icon='arrow-r…"
      ]
     },
     "execution_count": 5,
     "metadata": {},
     "output_type": "execute_result"
    }
   ],
   "source": [
    "from jupyter_utility_widgets.selector.index_selector import IndexSelector\n",
    "\n",
    "list_selector = IndexSelector(length=10)\n",
    "list_selector.observe(print, [\"value\"])\n",
    "list_selector\n"
   ]
  },
  {
   "cell_type": "code",
   "execution_count": null,
   "metadata": {},
   "outputs": [],
   "source": []
  }
 ],
 "metadata": {
  "kernelspec": {
   "display_name": "Python 3.8.13 ('.venv': venv)",
   "language": "python",
   "name": "python3"
  },
  "language_info": {
   "codemirror_mode": {
    "name": "ipython",
    "version": 3
   },
   "file_extension": ".py",
   "mimetype": "text/x-python",
   "name": "python",
   "nbconvert_exporter": "python",
   "pygments_lexer": "ipython3",
   "version": "3.8.13"
  },
  "orig_nbformat": 4,
  "vscode": {
   "interpreter": {
    "hash": "c5e8e9728e90e8dddc02d7dc39f10d9372a6afab1a8269899a9142ba21f429d2"
   }
  }
 },
 "nbformat": 4,
 "nbformat_minor": 2
}
