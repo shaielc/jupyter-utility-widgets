{
 "cells": [
  {
   "cell_type": "code",
   "execution_count": 3,
   "metadata": {},
   "outputs": [
    {
     "name": "stdout",
     "output_type": "stream",
     "text": [
      "The autoreload extension is already loaded. To reload it, use:\n",
      "  %reload_ext autoreload\n"
     ]
    }
   ],
   "source": [
    "%load_ext autoreload\n",
    "%autoreload 2"
   ]
  },
  {
   "cell_type": "code",
   "execution_count": 4,
   "metadata": {},
   "outputs": [
    {
     "name": "stderr",
     "output_type": "stream",
     "text": [
      "/home/shy-el/Repositories/jupyter-utility-widgets/jupyter_utility_widgets/plot/figures/specgram.py:24: UserWarning: Only one segment is calculated since parameter NFFT (=256) >= signal length (=0).\n",
      "  _, freqs,_,_ = self.ax.specgram(data, *self.spec_args, **self.spec_kwargs)\n",
      "/home/shy-el/Repositories/jupyter-utility-widgets/.venv/lib/python3.8/site-packages/matplotlib/axes/_axes.py:7726: RuntimeWarning: divide by zero encountered in log10\n",
      "  Z = 10. * np.log10(spec)\n"
     ]
    }
   ],
   "source": [
    "%matplotlib widget\n",
    "from jupyter_utility_widgets.plot.specgram_examiner import SpectrogramExaminer\n",
    "import numpy as np\n",
    "\n",
    "signal = np.random.normal(0,1, 100000) + 1j * np.random.normal(0,1, 100000)\n",
    "\n",
    "signal[22000:42000] += np.fft.ifft(np.fft.fftshift(np.pad(np.random.normal(0,1,10000), (5000,5000))) * 20000) \n",
    "spectrogram = SpectrogramExaminer()\n",
    "spectrogram.set_params(zorder=0,Fs=1)\n",
    "spectrogram.update(signal)"
   ]
  },
  {
   "cell_type": "code",
   "execution_count": 5,
   "metadata": {},
   "outputs": [
    {
     "data": {
      "application/vnd.jupyter.widget-view+json": {
       "model_id": "a0a9314e227a44d5998e24f1e8778dca",
       "version_major": 2,
       "version_minor": 0
      },
      "text/plain": [
       "SpectrogramExaminer(children=(SpecgramPlot(children=(Canvas(toolbar=Toolbar(toolitems=[('Home', 'Reset origina…"
      ]
     },
     "execution_count": 5,
     "metadata": {},
     "output_type": "execute_result"
    }
   ],
   "source": [
    "spectrogram"
   ]
  },
  {
   "attachments": {},
   "cell_type": "markdown",
   "metadata": {},
   "source": [
    "### Known Issues:\n",
    "* VSCode users - https://github.com/microsoft/vscode-jupyter/issues/12888."
   ]
  }
 ],
 "metadata": {
  "kernelspec": {
   "display_name": "Python 3 (ipykernel)",
   "language": "python",
   "name": "python3"
  },
  "language_info": {
   "codemirror_mode": {
    "name": "ipython",
    "version": 3
   },
   "file_extension": ".py",
   "mimetype": "text/x-python",
   "name": "python",
   "nbconvert_exporter": "python",
   "pygments_lexer": "ipython3",
   "version": "3.8.13"
  }
 },
 "nbformat": 4,
 "nbformat_minor": 4
}
