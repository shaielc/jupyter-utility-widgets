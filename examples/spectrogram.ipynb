{
 "cells": [
  {
   "cell_type": "code",
   "execution_count": 1,
   "metadata": {},
   "outputs": [],
   "source": [
    "%load_ext autoreload\n",
    "%autoreload 2"
   ]
  },
  {
   "cell_type": "code",
   "execution_count": 7,
   "metadata": {},
   "outputs": [],
   "source": [
    "%matplotlib widget\n",
    "from jupyter_utility_widgets.plot.specgram_examiner import SpectrogramExaminer\n",
    "import numpy as np\n",
    "\n",
    "signal = np.random.normal(0,1, 100000) + 1j * np.random.normal(0,1, 100000)\n",
    "\n",
    "signal[22000:42000] += np.fft.ifft(np.fft.fftshift(np.pad(np.random.normal(0,1,10000), (5000,5000))) * 20000) \n",
    "spectrogram = SpectrogramExaminer(keep_selection=True)\n",
    "spectrogram.set_params(zorder=0, Fs=1)\n",
    "spectrogram.update(signal)\n",
    "spectrogram.observe(print, names=[\"current_span\"])"
   ]
  },
  {
   "cell_type": "code",
   "execution_count": 8,
   "metadata": {
    "tags": [
     "widget"
    ]
   },
   "outputs": [
    {
     "data": {
      "application/vnd.jupyter.widget-view+json": {
       "model_id": "15689d9c3cc941978e2c47defc26d041",
       "version_major": 2,
       "version_minor": 0
      },
      "text/plain": [
       "SpectrogramExaminer(children=(SpecgramPlot(children=(Canvas(toolbar=Toolbar(toolitems=[('Home', 'Reset origina…"
      ]
     },
     "execution_count": 8,
     "metadata": {},
     "output_type": "execute_result"
    }
   ],
   "source": [
    "spectrogram"
   ]
  },
  {
   "cell_type": "code",
   "execution_count": 6,
   "metadata": {},
   "outputs": [
    {
     "data": {
      "text/plain": [
       "(17449, 27035)"
      ]
     },
     "execution_count": 6,
     "metadata": {},
     "output_type": "execute_result"
    }
   ],
   "source": []
  },
  {
   "attachments": {},
   "cell_type": "markdown",
   "metadata": {},
   "source": [
    "### Known Issues:\n",
    "* VSCode users - https://github.com/microsoft/vscode-jupyter/issues/12888.\n",
    "* VSCode users - https://github.com/microsoft/pylance-release/discussions/2716"
   ]
  },
  {
   "cell_type": "code",
   "execution_count": null,
   "metadata": {},
   "outputs": [],
   "source": []
  }
 ],
 "metadata": {
  "kernelspec": {
   "display_name": "Python 3 (ipykernel)",
   "language": "python",
   "name": "python3"
  },
  "language_info": {
   "codemirror_mode": {
    "name": "ipython",
    "version": 3
   },
   "file_extension": ".py",
   "mimetype": "text/x-python",
   "name": "python",
   "nbconvert_exporter": "python",
   "pygments_lexer": "ipython3",
   "version": "3.8.13"
  }
 },
 "nbformat": 4,
 "nbformat_minor": 4
}
