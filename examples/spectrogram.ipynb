{
 "cells": [
  {
   "cell_type": "code",
   "execution_count": 49,
   "metadata": {},
   "outputs": [
    {
     "name": "stdout",
     "output_type": "stream",
     "text": [
      "The autoreload extension is already loaded. To reload it, use:\n",
      "  %reload_ext autoreload\n"
     ]
    }
   ],
   "source": [
    "%load_ext autoreload\n",
    "%autoreload 2"
   ]
  },
  {
   "cell_type": "code",
   "execution_count": 68,
   "metadata": {},
   "outputs": [],
   "source": [
    "%matplotlib widget\n",
    "from jupyter_utility_widgets.plot.figures.specgram import SpectrogramExaminer\n",
    "import numpy as np\n",
    "\n",
    "signal = np.random.normal(0,1, 100000) + 1j * np.random.normal(0,1, 100000)\n",
    "\n",
    "signal[22000:42000] += np.fft.ifft(np.fft.fftshift(np.pad(np.random.normal(0,1,10000), (5000,5000))) * 20000) \n",
    "spectrogram = SpectrogramExaminer()\n",
    "spectrogram.set_params(zorder=0,Fs=1)\n",
    "spectrogram.update(signal)"
   ]
  },
  {
   "cell_type": "code",
   "execution_count": 69,
   "metadata": {},
   "outputs": [
    {
     "data": {
      "application/vnd.jupyter.widget-view+json": {
       "model_id": "581959d962204afbbb57c3edb7f53082",
       "version_major": 2,
       "version_minor": 0
      },
      "text/plain": [
       "SpectrogramExaminer(children=(SpecgramPlot(children=(Canvas(toolbar=Toolbar(toolitems=[('Home', 'Reset origina…"
      ]
     },
     "execution_count": 69,
     "metadata": {},
     "output_type": "execute_result"
    }
   ],
   "source": [
    "spectrogram"
   ]
  },
  {
   "cell_type": "code",
   "execution_count": null,
   "metadata": {},
   "outputs": [],
   "source": []
  }
 ],
 "metadata": {
  "kernelspec": {
   "display_name": "Python 3 (ipykernel)",
   "language": "python",
   "name": "python3"
  },
  "language_info": {
   "codemirror_mode": {
    "name": "ipython",
    "version": 3
   },
   "file_extension": ".py",
   "mimetype": "text/x-python",
   "name": "python",
   "nbconvert_exporter": "python",
   "pygments_lexer": "ipython3",
   "version": "3.8.13"
  }
 },
 "nbformat": 4,
 "nbformat_minor": 4
}
