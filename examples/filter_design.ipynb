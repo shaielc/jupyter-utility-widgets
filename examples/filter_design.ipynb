{
 "cells": [
  {
   "cell_type": "code",
   "execution_count": 1,
   "metadata": {},
   "outputs": [],
   "source": [
    "%load_ext autoreload\n",
    "%autoreload 2"
   ]
  },
  {
   "cell_type": "code",
   "execution_count": 16,
   "metadata": {},
   "outputs": [
    {
     "ename": "TraitError",
     "evalue": "The 'children' trait of a VBox instance expected a tuple, not the FilterDesignControls FilterDesignControls(children=(WindowSelect(children=(Dropdown(options=(), value=None),)), BoundedIntText(value=64, description='N'))).",
     "output_type": "error",
     "traceback": [
      "\u001b[0;31m---------------------------------------------------------------------------\u001b[0m",
      "\u001b[0;31mTraitError\u001b[0m                                Traceback (most recent call last)",
      "Cell \u001b[0;32mIn[16], line 5\u001b[0m\n\u001b[1;32m      2\u001b[0m \u001b[39mfrom\u001b[39;00m \u001b[39mjupyter_utility_widgets\u001b[39;00m\u001b[39m.\u001b[39;00m\u001b[39mfilter_design\u001b[39;00m \u001b[39mimport\u001b[39;00m FilterDesign\n\u001b[1;32m      3\u001b[0m \u001b[39mfrom\u001b[39;00m \u001b[39mscipy\u001b[39;00m\u001b[39m.\u001b[39;00m\u001b[39msignal\u001b[39;00m \u001b[39mimport\u001b[39;00m firwin\n\u001b[0;32m----> 5\u001b[0m \u001b[39mfilter\u001b[39m \u001b[39m=\u001b[39m FilterDesign()\n\u001b[1;32m      6\u001b[0m \u001b[39mfilter\u001b[39m\u001b[39m.\u001b[39mfilter_plot\u001b[39m.\u001b[39mupdate(firwin(\u001b[39m100\u001b[39m, \u001b[39m0.2\u001b[39m,\u001b[39m0.01\u001b[39m))\n\u001b[1;32m      7\u001b[0m \u001b[39mfilter\u001b[39m\n",
      "File \u001b[0;32m~/Repositories/jupyter-utility-widgets/jupyter_utility_widgets/filter_design.py:27\u001b[0m, in \u001b[0;36mFilterDesign.__init__\u001b[0;34m(self, **kwargs)\u001b[0m\n\u001b[1;32m     25\u001b[0m \u001b[39mself\u001b[39m\u001b[39m.\u001b[39mfilter_plot \u001b[39m=\u001b[39m Filter()\n\u001b[1;32m     26\u001b[0m \u001b[39mself\u001b[39m\u001b[39m.\u001b[39mdesign_controls \u001b[39m=\u001b[39m FilterDesignControls()\n\u001b[0;32m---> 27\u001b[0m children \u001b[39m=\u001b[39m [\u001b[39mself\u001b[39m\u001b[39m.\u001b[39mfilter_plot, VBox(\n\u001b[1;32m     28\u001b[0m     \u001b[39mself\u001b[39;49m\u001b[39m.\u001b[39;49mdesign_controls \n\u001b[1;32m     29\u001b[0m )]\n\u001b[1;32m     30\u001b[0m \u001b[39msuper\u001b[39m()\u001b[39m.\u001b[39m\u001b[39m__init__\u001b[39m(children, \u001b[39m*\u001b[39m\u001b[39m*\u001b[39mkwargs)\n",
      "File \u001b[0;32m~/Repositories/jupyter-utility-widgets/.venv/lib/python3.8/site-packages/ipywidgets/widgets/widget_box.py:64\u001b[0m, in \u001b[0;36mBox.__init__\u001b[0;34m(self, children, **kwargs)\u001b[0m\n\u001b[1;32m     62\u001b[0m \u001b[39mdef\u001b[39;00m \u001b[39m__init__\u001b[39m(\u001b[39mself\u001b[39m, children\u001b[39m=\u001b[39m(), \u001b[39m*\u001b[39m\u001b[39m*\u001b[39mkwargs):\n\u001b[1;32m     63\u001b[0m     kwargs[\u001b[39m'\u001b[39m\u001b[39mchildren\u001b[39m\u001b[39m'\u001b[39m] \u001b[39m=\u001b[39m children\n\u001b[0;32m---> 64\u001b[0m     \u001b[39msuper\u001b[39;49m()\u001b[39m.\u001b[39;49m\u001b[39m__init__\u001b[39;49m(\u001b[39m*\u001b[39;49m\u001b[39m*\u001b[39;49mkwargs)\n",
      "File \u001b[0;32m~/Repositories/jupyter-utility-widgets/.venv/lib/python3.8/site-packages/ipywidgets/widgets/widget.py:443\u001b[0m, in \u001b[0;36mWidget.__init__\u001b[0;34m(self, **kwargs)\u001b[0m\n\u001b[1;32m    441\u001b[0m \u001b[39m\"\"\"Public constructor\"\"\"\u001b[39;00m\n\u001b[1;32m    442\u001b[0m \u001b[39mself\u001b[39m\u001b[39m.\u001b[39m_model_id \u001b[39m=\u001b[39m kwargs\u001b[39m.\u001b[39mpop(\u001b[39m'\u001b[39m\u001b[39mmodel_id\u001b[39m\u001b[39m'\u001b[39m, \u001b[39mNone\u001b[39;00m)\n\u001b[0;32m--> 443\u001b[0m \u001b[39msuper\u001b[39;49m()\u001b[39m.\u001b[39;49m\u001b[39m__init__\u001b[39;49m(\u001b[39m*\u001b[39;49m\u001b[39m*\u001b[39;49mkwargs)\n\u001b[1;32m    445\u001b[0m Widget\u001b[39m.\u001b[39m_call_widget_constructed(\u001b[39mself\u001b[39m)\n\u001b[1;32m    446\u001b[0m \u001b[39mself\u001b[39m\u001b[39m.\u001b[39mopen()\n",
      "File \u001b[0;32m~/Repositories/jupyter-utility-widgets/.venv/lib/python3.8/site-packages/traitlets/traitlets.py:1235\u001b[0m, in \u001b[0;36mHasTraits.__init__\u001b[0;34m(self, *args, **kwargs)\u001b[0m\n\u001b[1;32m   1233\u001b[0m \u001b[39mfor\u001b[39;00m key, value \u001b[39min\u001b[39;00m kwargs\u001b[39m.\u001b[39mitems():\n\u001b[1;32m   1234\u001b[0m     \u001b[39mif\u001b[39;00m \u001b[39mself\u001b[39m\u001b[39m.\u001b[39mhas_trait(key):\n\u001b[0;32m-> 1235\u001b[0m         \u001b[39msetattr\u001b[39;49m(\u001b[39mself\u001b[39;49m, key, value)\n\u001b[1;32m   1236\u001b[0m     \u001b[39melse\u001b[39;00m:\n\u001b[1;32m   1237\u001b[0m         \u001b[39m# passthrough args that don't set traits to super\u001b[39;00m\n\u001b[1;32m   1238\u001b[0m         super_kwargs[key] \u001b[39m=\u001b[39m value\n",
      "File \u001b[0;32m~/Repositories/jupyter-utility-widgets/.venv/lib/python3.8/site-packages/traitlets/traitlets.py:715\u001b[0m, in \u001b[0;36mTraitType.__set__\u001b[0;34m(self, obj, value)\u001b[0m\n\u001b[1;32m    713\u001b[0m     \u001b[39mraise\u001b[39;00m TraitError(\u001b[39m'\u001b[39m\u001b[39mThe \u001b[39m\u001b[39m\"\u001b[39m\u001b[39m%s\u001b[39;00m\u001b[39m\"\u001b[39m\u001b[39m trait is read-only.\u001b[39m\u001b[39m'\u001b[39m \u001b[39m%\u001b[39m \u001b[39mself\u001b[39m\u001b[39m.\u001b[39mname)\n\u001b[1;32m    714\u001b[0m \u001b[39melse\u001b[39;00m:\n\u001b[0;32m--> 715\u001b[0m     \u001b[39mself\u001b[39;49m\u001b[39m.\u001b[39;49mset(obj, value)\n",
      "File \u001b[0;32m~/Repositories/jupyter-utility-widgets/.venv/lib/python3.8/site-packages/traitlets/traitlets.py:689\u001b[0m, in \u001b[0;36mTraitType.set\u001b[0;34m(self, obj, value)\u001b[0m\n\u001b[1;32m    688\u001b[0m \u001b[39mdef\u001b[39;00m \u001b[39mset\u001b[39m(\u001b[39mself\u001b[39m, obj, value):\n\u001b[0;32m--> 689\u001b[0m     new_value \u001b[39m=\u001b[39m \u001b[39mself\u001b[39;49m\u001b[39m.\u001b[39;49m_validate(obj, value)\n\u001b[1;32m    690\u001b[0m     \u001b[39mtry\u001b[39;00m:\n\u001b[1;32m    691\u001b[0m         old_value \u001b[39m=\u001b[39m obj\u001b[39m.\u001b[39m_trait_values[\u001b[39mself\u001b[39m\u001b[39m.\u001b[39mname]\n",
      "File \u001b[0;32m~/Repositories/jupyter-utility-widgets/.venv/lib/python3.8/site-packages/traitlets/traitlets.py:721\u001b[0m, in \u001b[0;36mTraitType._validate\u001b[0;34m(self, obj, value)\u001b[0m\n\u001b[1;32m    719\u001b[0m     \u001b[39mreturn\u001b[39;00m value\n\u001b[1;32m    720\u001b[0m \u001b[39mif\u001b[39;00m \u001b[39mhasattr\u001b[39m(\u001b[39mself\u001b[39m, \u001b[39m\"\u001b[39m\u001b[39mvalidate\u001b[39m\u001b[39m\"\u001b[39m):\n\u001b[0;32m--> 721\u001b[0m     value \u001b[39m=\u001b[39m \u001b[39mself\u001b[39;49m\u001b[39m.\u001b[39;49mvalidate(obj, value)\n\u001b[1;32m    722\u001b[0m \u001b[39mif\u001b[39;00m obj\u001b[39m.\u001b[39m_cross_validation_lock \u001b[39mis\u001b[39;00m \u001b[39mFalse\u001b[39;00m:\n\u001b[1;32m    723\u001b[0m     value \u001b[39m=\u001b[39m \u001b[39mself\u001b[39m\u001b[39m.\u001b[39m_cross_validate(obj, value)\n",
      "File \u001b[0;32m~/Repositories/jupyter-utility-widgets/.venv/lib/python3.8/site-packages/traitlets/traitlets.py:2711\u001b[0m, in \u001b[0;36mContainer.validate\u001b[0;34m(self, obj, value)\u001b[0m\n\u001b[1;32m   2709\u001b[0m     \u001b[39massert\u001b[39;00m \u001b[39mself\u001b[39m\u001b[39m.\u001b[39mklass \u001b[39mis\u001b[39;00m \u001b[39mnot\u001b[39;00m \u001b[39mNone\u001b[39;00m\n\u001b[1;32m   2710\u001b[0m     value \u001b[39m=\u001b[39m \u001b[39mself\u001b[39m\u001b[39m.\u001b[39mklass(value)  \u001b[39m# type:ignore[operator]\u001b[39;00m\n\u001b[0;32m-> 2711\u001b[0m value \u001b[39m=\u001b[39m \u001b[39msuper\u001b[39;49m()\u001b[39m.\u001b[39;49mvalidate(obj, value)\n\u001b[1;32m   2712\u001b[0m \u001b[39mif\u001b[39;00m value \u001b[39mis\u001b[39;00m \u001b[39mNone\u001b[39;00m:\n\u001b[1;32m   2713\u001b[0m     \u001b[39mreturn\u001b[39;00m value\n",
      "File \u001b[0;32m~/Repositories/jupyter-utility-widgets/.venv/lib/python3.8/site-packages/traitlets/traitlets.py:2032\u001b[0m, in \u001b[0;36mInstance.validate\u001b[0;34m(self, obj, value)\u001b[0m\n\u001b[1;32m   2030\u001b[0m     \u001b[39mreturn\u001b[39;00m value\n\u001b[1;32m   2031\u001b[0m \u001b[39melse\u001b[39;00m:\n\u001b[0;32m-> 2032\u001b[0m     \u001b[39mself\u001b[39;49m\u001b[39m.\u001b[39;49merror(obj, value)\n",
      "File \u001b[0;32m~/Repositories/jupyter-utility-widgets/.venv/lib/python3.8/site-packages/traitlets/traitlets.py:827\u001b[0m, in \u001b[0;36mTraitType.error\u001b[0;34m(self, obj, value, error, info)\u001b[0m\n\u001b[1;32m    821\u001b[0m \u001b[39melse\u001b[39;00m:\n\u001b[1;32m    822\u001b[0m     e \u001b[39m=\u001b[39m \u001b[39m\"\u001b[39m\u001b[39mThe \u001b[39m\u001b[39m'\u001b[39m\u001b[39m{}\u001b[39;00m\u001b[39m'\u001b[39m\u001b[39m trait expected \u001b[39m\u001b[39m{}\u001b[39;00m\u001b[39m, not \u001b[39m\u001b[39m{}\u001b[39;00m\u001b[39m.\u001b[39m\u001b[39m\"\u001b[39m\u001b[39m.\u001b[39mformat(\n\u001b[1;32m    823\u001b[0m         \u001b[39mself\u001b[39m\u001b[39m.\u001b[39mname,\n\u001b[1;32m    824\u001b[0m         \u001b[39mself\u001b[39m\u001b[39m.\u001b[39minfo(),\n\u001b[1;32m    825\u001b[0m         describe(\u001b[39m\"\u001b[39m\u001b[39mthe\u001b[39m\u001b[39m\"\u001b[39m, value),\n\u001b[1;32m    826\u001b[0m     )\n\u001b[0;32m--> 827\u001b[0m \u001b[39mraise\u001b[39;00m TraitError(e)\n",
      "\u001b[0;31mTraitError\u001b[0m: The 'children' trait of a VBox instance expected a tuple, not the FilterDesignControls FilterDesignControls(children=(WindowSelect(children=(Dropdown(options=(), value=None),)), BoundedIntText(value=64, description='N')))."
     ]
    }
   ],
   "source": [
    "%matplotlib widget\n",
    "from jupyter_utility_widgets.filter_design import FilterDesign\n",
    "from scipy.signal import firwin\n",
    "\n",
    "filter = FilterDesign()\n",
    "filter.filter_plot.update(firwin(100, 0.2,0.01))\n",
    "filter"
   ]
  },
  {
   "cell_type": "code",
   "execution_count": 12,
   "metadata": {},
   "outputs": [
    {
     "data": {
      "application/vnd.jupyter.widget-view+json": {
       "model_id": "ade223d92686469b95d694e4fff7ffb9",
       "version_major": 2,
       "version_minor": 0
      },
      "text/plain": [
       "BoundedIntText(value=0)"
      ]
     },
     "execution_count": 12,
     "metadata": {},
     "output_type": "execute_result"
    }
   ],
   "source": [
    "from ipywidgets import BoundedIntText\n",
    "BoundedIntText(min=0)\n"
   ]
  }
 ],
 "metadata": {
  "kernelspec": {
   "display_name": ".venv",
   "language": "python",
   "name": "python3"
  },
  "language_info": {
   "codemirror_mode": {
    "name": "ipython",
    "version": 3
   },
   "file_extension": ".py",
   "mimetype": "text/x-python",
   "name": "python",
   "nbconvert_exporter": "python",
   "pygments_lexer": "ipython3",
   "version": "3.8.13"
  },
  "orig_nbformat": 4
 },
 "nbformat": 4,
 "nbformat_minor": 2
}
